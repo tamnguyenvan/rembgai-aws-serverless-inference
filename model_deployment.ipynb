{
 "cells": [
  {
   "cell_type": "markdown",
   "id": "df45da5b",
   "metadata": {},
   "source": [
    "# Model creation"
   ]
  },
  {
   "cell_type": "code",
   "execution_count": null,
   "id": "0903aeee",
   "metadata": {},
   "outputs": [],
   "source": [
    "import os\n",
    "\n",
    "ROOT_DIR = os.getcwd()\n",
    "PROJECT_NAME = 'isnet'\n",
    "\n",
    "%cd {ROOT_DIR}"
   ]
  },
  {
   "cell_type": "code",
   "execution_count": null,
   "id": "702a3af3",
   "metadata": {},
   "outputs": [],
   "source": [
    "TARBALL_NAME = 'isnet-general-use.tar.gz'\n",
    "if os.path.exists(TARBALL_NAME):\n",
    "    !rm {TARBALL_NAME}\n",
    "!rm -rf my_model/code/.ipynb_checkpoints\n",
    "!rm -rf my_model/code/__pycache__\n",
    "!tar -czvf {TARBALL_NAME} my_model"
   ]
  },
  {
   "cell_type": "markdown",
   "id": "95c3f18d",
   "metadata": {},
   "source": [
    "## Move the tarball to S3"
   ]
  },
  {
   "cell_type": "code",
   "execution_count": null,
   "id": "93861b9b",
   "metadata": {},
   "outputs": [],
   "source": [
    "import sagemaker\n",
    "\n",
    "KEY_PREFIX = 'isnet'\n",
    "sagemaker_session = sagemaker.Session()\n",
    "inputs = sagemaker_session.upload_data(path=TARBALL_NAME, key_prefix=KEY_PREFIX)"
   ]
  },
  {
   "cell_type": "markdown",
   "id": "bfd460f3",
   "metadata": {},
   "source": [
    "# Endpoint configuration creation"
   ]
  },
  {
   "cell_type": "code",
   "execution_count": null,
   "id": "9d6ab442",
   "metadata": {},
   "outputs": [],
   "source": [
    "from sagemaker.serverless import ServerlessInferenceConfig\n",
    "\n",
    "# Create an empty ServerlessInferenceConfig object to use default values\n",
    "serverless_config = ServerlessInferenceConfig(\n",
    "    memory_size_in_mb=1024,\n",
    "    max_concurrency=20\n",
    ")"
   ]
  },
  {
   "cell_type": "markdown",
   "id": "f944cc00",
   "metadata": {},
   "source": [
    "# Endpoint creation and invocation"
   ]
  },
  {
   "cell_type": "code",
   "execution_count": null,
   "id": "66ee0944",
   "metadata": {},
   "outputs": [],
   "source": [
    "import boto3\n",
    "from sagemaker.pytorch.model import PyTorchModel\n",
    "from sagemaker import get_execution_role\n",
    "\n",
    "# the (default) IAM role you created when creating this notebook\n",
    "role = get_execution_role()\n",
    "\n",
    "%cd {ROOT_DIR}/my_model/code\n",
    "model = PyTorchModel(\n",
    "    model_data='s3://' + sagemaker_session.default_bucket() + f'{KEY_PREFIX}/{TARBALL_NAME}',\n",
    "    role=role,\n",
    "    framework_version='1.10.0',\n",
    "    py_version='py3',\n",
    "    source_dir='.',\n",
    "    entry_point='inference.py'\n",
    ")"
   ]
  },
  {
   "cell_type": "code",
   "execution_count": null,
   "id": "6157d54b",
   "metadata": {},
   "outputs": [],
   "source": [
    "serverless_predictor = model.deploy(serverless_inference_config=serverless_config)"
   ]
  },
  {
   "cell_type": "code",
   "execution_count": null,
   "id": "8bf421f3",
   "metadata": {},
   "outputs": [],
   "source": [
    "serverless_predictor.endpoint_name"
   ]
  },
  {
   "cell_type": "markdown",
   "id": "2dc45a71",
   "metadata": {},
   "source": [
    "# API Gateway connection"
   ]
  }
 ],
 "metadata": {
  "kernelspec": {
   "display_name": "Python 3 (ipykernel)",
   "language": "python",
   "name": "python3"
  },
  "language_info": {
   "codemirror_mode": {
    "name": "ipython",
    "version": 3
   },
   "file_extension": ".py",
   "mimetype": "text/x-python",
   "name": "python",
   "nbconvert_exporter": "python",
   "pygments_lexer": "ipython3",
   "version": "3.9.7"
  }
 },
 "nbformat": 4,
 "nbformat_minor": 5
}
